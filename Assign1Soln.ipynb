{
 "cells": [
  {
   "cell_type": "code",
   "execution_count": 81,
   "metadata": {
    "collapsed": true
   },
   "outputs": [],
   "source": [
    "# import required modules\n",
    "import numpy as np"
   ]
  },
  {
   "cell_type": "code",
   "execution_count": 82,
   "metadata": {
    "collapsed": false
   },
   "outputs": [
    {
     "name": "stdout",
     "output_type": "stream",
     "text": [
      "Time Between Snapshots  0.014 Gyr\n"
     ]
    }
   ],
   "source": [
    "# time between snapshots  = 10 Myr/h = 0.01 Gyr/h\n",
    "print \"Time Between Snapshots \", round(0.010/0.7,3), \"Gyr\""
   ]
  },
  {
   "cell_type": "code",
   "execution_count": 83,
   "metadata": {
    "collapsed": false
   },
   "outputs": [
    {
     "name": "stdout",
     "output_type": "stream",
     "text": [
      "Simulation Ends After 10.0 Gyr\n"
     ]
    }
   ],
   "source": [
    "# last SnapNumber is 700\n",
    "print \"Simulation Ends After\", 700*0.010/0.7, \"Gyr\""
   ]
  },
  {
   "cell_type": "code",
   "execution_count": 84,
   "metadata": {
    "collapsed": false
   },
   "outputs": [],
   "source": [
    "# define a function that will read in a file\n",
    "# input: filename as a string  e.g. \"MW_000.txt\"\n",
    "def readfile(filename):\n",
    "    # open the file \n",
    "    f = open(filename,'r')\n",
    "    \n",
    "    #read header info line by line (line will be a string)\n",
    "    # read first two lines FIRST and store as variable\n",
    "    \n",
    "    # read and store time\n",
    "    line = f.readline()\n",
    "    label, value = line.split()\n",
    "    time = float(value)\n",
    "\n",
    "    # read and store total number of particles\n",
    "    line = f.readline()\n",
    "    label, value = line.split()\n",
    "    total = float(value)\n",
    "    \n",
    "    # close file\n",
    "    f.close()\n",
    "\n",
    "    # read the remainder of the file, \n",
    "    # \"dype=None\" means line is splot along white spaces\n",
    "    # \"skip_header=3\"  skipping the first 3 lines \n",
    "    # the flag \"names=True\" creates arrays to store the date\n",
    "    #       with the column headers given in line 4 like \"m\", \"x\"\n",
    "    data = np.genfromtxt(filename,dtype=None,names=True,skip_header=3)\n",
    "    \n",
    "    # this will return the time of the snapshot, \n",
    "    #total number of particles \n",
    "    #and an array that stores the remainder of the data. \n",
    "    return time, total, data"
   ]
  },
  {
   "cell_type": "code",
   "execution_count": 98,
   "metadata": {
    "collapsed": false
   },
   "outputs": [],
   "source": [
    "# define a function that takes in the desired particle type\n",
    "#  and the particle number and prints the 3D position, \n",
    "#  velocity and mass\n",
    "#  input:  Ptype e.g. 1,2,3\n",
    "#  PNum:  particle number e.g. 100 \n",
    "#  filename \"MW_000.txt\"\n",
    "\n",
    "def ParticleInfo(PType, PNum, filename):\n",
    "\n",
    "    # read in the file \n",
    "    time, total, data = readfile(filename)\n",
    "\n",
    "    # print to screen the time and total number of particles\n",
    "    print 'time = ',time, ' Gyr'\n",
    "    print 'total particles = ',total\n",
    "    print \" \"\n",
    "    \n",
    "    \n",
    "    #create an array to store indexes of particles of desired Ptype\n",
    "    indexD = np.where(data['type'] == PType)\n",
    "\n",
    "    # create new arrays with the m, x, y, z, \n",
    "    # vx, vy, vz of just the Ptype desired\n",
    "    mnew = data['m'][indexD]\n",
    "    xnew = data['x'][indexD]\n",
    "    ynew = data['y'][indexD]\n",
    "    znew = data['z'][indexD]\n",
    "    vxnew = data['vx'][indexD]\n",
    "    vynew = data['vy'][indexD]\n",
    "    vznew = data['vz'][indexD]\n",
    "    \n",
    "    # print the properties of the PNumth  particle  of type PType\n",
    "    # note: PNum -1 = array index for particle PNum \n",
    "        \n",
    "    # 3D position\n",
    "    R3D = np.sqrt(xnew[PNum-1]**2 + \n",
    "                  ynew[PNum-1]**2 + znew[PNum-1]**2)\n",
    "    print \"The 3D Position of Particle %s of Type %s is\" %(PNum,PType)\n",
    "    print round(R3D,2), \"kpc\"\n",
    "    print \" \"\n",
    "    \n",
    "    # 3D velocity \n",
    "    V3D = np.sqrt(vxnew[PNum-1]**2 + \n",
    "                  vynew[PNum-1]**2 + vznew[PNum-1]**2)\n",
    "    print \"The 3D Velocity of Particle %s of Type %s is\" %(PNum,PType)\n",
    "    print round(V3D,2), \"km/s\"\n",
    "    print \" \"\n",
    "    \n",
    "    # mass \n",
    "    print \"The Mass of Particle %s of Type %s is\" %(PNum,PType)\n",
    "    print mnew[PNum-1]*1e10, \"Msun\""
   ]
  },
  {
   "cell_type": "code",
   "execution_count": 99,
   "metadata": {
    "collapsed": false
   },
   "outputs": [
    {
     "name": "stdout",
     "output_type": "stream",
     "text": [
      "time =  0.0  Gyr\n",
      "total particles =  135000.0\n",
      " \n",
      "The 3D Position of Particle 100 of Type 2 is\n",
      "11.44 kpc\n",
      " \n",
      "The 3D Velocity of Particle 100 of Type 2 is \n",
      "180.9 km/s\n",
      " \n",
      "The Mass of Particle 100 of Type 2 is\n",
      "1000000.0 Msun\n"
     ]
    }
   ],
   "source": [
    "# Print information for disk particle\n",
    "# Ptype 2, particle number 100 \n",
    "#Using the file I sent in the email \n",
    "ParticleInfo(2,100,\"MW_000_A1.txt\")"
   ]
  },
  {
   "cell_type": "code",
   "execution_count": 100,
   "metadata": {
    "collapsed": false
   },
   "outputs": [
    {
     "name": "stdout",
     "output_type": "stream",
     "text": [
      "time =  0.0  Gyr\n",
      "total particles =  67500.0\n",
      " \n",
      "The 3D Position of Particle 100 of Type 2 is\n",
      "5.58 kpc\n",
      " \n",
      "The 3D Velocity of Particle 100 of Type 2 is \n",
      "199.49 km/s\n",
      " \n",
      "The Mass of Particle 100 of Type 2 is\n",
      "2000000.0 Msun\n"
     ]
    }
   ],
   "source": [
    "# Print information for disk particle  \n",
    "# Ptype 2, particle number 100\n",
    "#From the file on Nimoy ~gbesla/LowRes\n",
    "ParticleInfo(2,100,\"MW_000.txt\")"
   ]
  },
  {
   "cell_type": "code",
   "execution_count": null,
   "metadata": {
    "collapsed": true
   },
   "outputs": [],
   "source": []
  }
 ],
 "metadata": {
  "kernelspec": {
   "display_name": "Python 2",
   "language": "python",
   "name": "python2"
  },
  "language_info": {
   "codemirror_mode": {
    "name": "ipython",
    "version": 2
   },
   "file_extension": ".py",
   "mimetype": "text/x-python",
   "name": "python",
   "nbconvert_exporter": "python",
   "pygments_lexer": "ipython2",
   "version": "2.7.11"
  }
 },
 "nbformat": 4,
 "nbformat_minor": 0
}
