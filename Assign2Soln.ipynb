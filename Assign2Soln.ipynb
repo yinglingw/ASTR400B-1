{
 "cells": [
  {
   "cell_type": "code",
   "execution_count": 1,
   "metadata": {
    "collapsed": true
   },
   "outputs": [],
   "source": [
    "import numpy as np"
   ]
  },
  {
   "cell_type": "code",
   "execution_count": 4,
   "metadata": {
    "collapsed": false
   },
   "outputs": [],
   "source": [
    "# define a function that will read in a given file \n",
    "# From Assign 1\n",
    "def readfile(filename):\n",
    "    \n",
    "    # open the file \n",
    "    f = open(filename,'r')\n",
    "    \n",
    "    # read header info line by line (line will be a string)\n",
    "    # read first two lines FIRST \n",
    "    \n",
    "    # read the time \n",
    "    line = f.readline()\n",
    "    label, value = line.split()\n",
    "    time = float(value)\n",
    "\n",
    "    # read the number of particles \n",
    "    line = f.readline()\n",
    "    label, value = line.split()\n",
    "    total = float(value)\n",
    "    \n",
    "    # close file\n",
    "    f.close()\n",
    "\n",
    "    # read the remainder of the file, skipping the first 3 lines \n",
    "    # dtype: delimiter is white space \n",
    "    # names=True sets columns as arrays with names specified by \n",
    "    # line 4 of the file \n",
    "    data = np.genfromtxt(filename, dtype=None, names=True, skip_header=3)\n",
    "    \n",
    "    # this will return the time of the snapshot,\n",
    "    # total number of particles \n",
    "    #and an array that stores the remainder of the data. \n",
    "    return time, total, data"
   ]
  },
  {
   "cell_type": "code",
   "execution_count": 2,
   "metadata": {
    "collapsed": true
   },
   "outputs": [],
   "source": [
    "# Question 1 \n",
    "# function that computes the mass of a given component of \n",
    "# a given galaxy \n",
    "# returns the mass in units of 1e12\n",
    "# input, filename to store the galaxy name\n",
    "# input, Ptype\n",
    "# input, data array already loaded in\n",
    "\n",
    "def Mass(filename,Ptype,data):\n",
    "    \n",
    "    # identify the galaxy name\n",
    "    splitting = filename.split(\"_\")\n",
    "    galname = splitting[0]\n",
    "    \n",
    "    # identify all particles of required type\n",
    "    index = np.where(data['type']== Ptype)\n",
    "    \n",
    "    # compute the total mass of desired particles\n",
    "    mass = np.sum(data['m'][index])\n",
    "    # store mass in units of 1e12 \n",
    "    mass1e12 = round(mass*1e10/1e12,3)\n",
    "    \n",
    "    # compute the total number of particles\n",
    "    number = data['m'][index].size\n",
    "     \n",
    "    print \"The Total Mass of particle type %s in the galaxy %s is\" %(Ptype,galname), mass1e12, \"x 10^12 Msun\"\n",
    "    print \"The Total Number of particle type %s in the galaxy %s is\" %(Ptype,galname), number\n",
    "\n",
    "    return mass1e12"
   ]
  },
  {
   "cell_type": "code",
   "execution_count": 5,
   "metadata": {
    "collapsed": false
   },
   "outputs": [],
   "source": [
    "timeMW, totalMW, dataMW = readfile('MW_000.txt')"
   ]
  },
  {
   "cell_type": "code",
   "execution_count": 6,
   "metadata": {
    "collapsed": true
   },
   "outputs": [],
   "source": [
    "timeM31, totalM31, dataM31 = readfile('M31_000.txt')"
   ]
  },
  {
   "cell_type": "code",
   "execution_count": 7,
   "metadata": {
    "collapsed": true
   },
   "outputs": [],
   "source": [
    "timeM33, totalM33, dataM33 = readfile('M33_000.txt')"
   ]
  },
  {
   "cell_type": "code",
   "execution_count": 8,
   "metadata": {
    "collapsed": false
   },
   "outputs": [
    {
     "name": "stdout",
     "output_type": "stream",
     "text": [
      "Halo\n",
      "The Total Mass of particle type 1 in the galaxy MW is 1.975 x 10^12 Msun\n",
      "The Total Number of particle type 1 in the galaxy MW is 50000\n",
      "\n",
      "\n",
      "Disk\n",
      "The Total Mass of particle type 2 in the galaxy MW is 0.075 x 10^12 Msun\n",
      "The Total Number of particle type 2 in the galaxy MW is 75000\n",
      "\n",
      "\n",
      "Bulge\n",
      "The Total Mass of particle type 3 in the galaxy MW is 0.01 x 10^12 Msun\n",
      "The Total Number of particle type 3 in the galaxy MW is 10000\n"
     ]
    }
   ],
   "source": [
    "# Question 2 \n",
    "# Print the mass of the Milky Way \n",
    "print \"Halo\"\n",
    "HaloMW = Mass(\"MW_000.txt\",1,dataMW)\n",
    "print \"\\n\"\n",
    "print \"Disk\"\n",
    "DiskMW = Mass(\"MW_000.txt\",2,dataMW)\n",
    "print \"\\n\"\n",
    "print \"Bulge\"\n",
    "BulgeMW = Mass(\"MW_000.txt\",3,dataMW)"
   ]
  },
  {
   "cell_type": "code",
   "execution_count": 9,
   "metadata": {
    "collapsed": false
   },
   "outputs": [
    {
     "name": "stdout",
     "output_type": "stream",
     "text": [
      "Halo\n",
      "The Total Mass of particle type 1 in the galaxy M31 is 1.921 x 10^12 Msun\n",
      "The Total Number of particle type 1 in the galaxy M31 is 50000\n",
      "\n",
      "\n",
      "Disk\n",
      "The Total Mass of particle type 2 in the galaxy M31 is 0.12 x 10^12 Msun\n",
      "The Total Number of particle type 2 in the galaxy M31 is 120000\n",
      "\n",
      "\n",
      "Bulge\n",
      "The Total Mass of particle type 3 in the galaxy M31 is 0.019 x 10^12 Msun\n",
      "The Total Number of particle type 3 in the galaxy M31 is 19000\n"
     ]
    }
   ],
   "source": [
    "# Question 2 \n",
    "# Print the mass of the M31\n",
    "print \"Halo\"\n",
    "HaloM31 = Mass(\"M31_000.txt\",1,dataM31)\n",
    "print \"\\n\"\n",
    "print \"Disk\"\n",
    "DiskM31 = Mass(\"M31_000.txt\",2,dataM31)\n",
    "print \"\\n\"\n",
    "print \"Bulge\"\n",
    "BulgeM31 = Mass(\"M31_000.txt\",3,dataM31)"
   ]
  },
  {
   "cell_type": "code",
   "execution_count": 10,
   "metadata": {
    "collapsed": false
   },
   "outputs": [
    {
     "name": "stdout",
     "output_type": "stream",
     "text": [
      "Halo\n",
      "The Total Mass of particle type 1 in the galaxy M33 is 0.187 x 10^12 Msun\n",
      "The Total Number of particle type 1 in the galaxy M33 is 5000\n",
      "\n",
      "\n",
      "Disk\n",
      "The Total Mass of particle type 2 in the galaxy M33 is 0.009 x 10^12 Msun\n",
      "The Total Number of particle type 2 in the galaxy M33 is 9300\n",
      "\n",
      "\n",
      "Bulge\n",
      "total mass M33 0.196 x 10^12 Msun\n"
     ]
    }
   ],
   "source": [
    "# Question 2 \n",
    "# Print the mass of the M33  No Bulge\n",
    "print \"Halo\"\n",
    "HaloM33 = Mass(\"M33_000.txt\",1,dataM33)\n",
    "print \"\\n\"\n",
    "print \"Disk\"\n",
    "DiskM33 = Mass(\"M33_000.txt\",2,dataM33)\n",
    "print \"\\n\"\n",
    "print \"Bulge\"\n",
    "TotM33 = HaloM33+DiskM33\n",
    "print \"total mass M33\", TotM33, \"x 10^12 Msun\""
   ]
  },
  {
   "cell_type": "code",
   "execution_count": 22,
   "metadata": {
    "collapsed": false
   },
   "outputs": [
    {
     "name": "stdout",
     "output_type": "stream",
     "text": [
      "Ratio Between the Halo mass of the M31 and MW is 1.03\n"
     ]
    }
   ],
   "source": [
    "# Question 3\n",
    "# comparing the total mass of MW to M31\n",
    "print \"Ratio Between the Halo mass of the M31 and MW is\", round((HaloMW)/(HaloM31),2)"
   ]
  },
  {
   "cell_type": "markdown",
   "metadata": {},
   "source": [
    "They are roughly equal"
   ]
  },
  {
   "cell_type": "code",
   "execution_count": 21,
   "metadata": {
    "collapsed": false
   },
   "outputs": [
    {
     "name": "stdout",
     "output_type": "stream",
     "text": [
      "The total Mass of the Local Group 4.316  x 10^12 Msun\n",
      "[1.975, 1.921, 0.187, 0.12, 0.075, 0.019, 0.01, 0.009]\n"
     ]
    }
   ],
   "source": [
    "# Question 4 \n",
    "# total mass of the local Group\n",
    "totMass = HaloM31 + HaloMW + HaloM33 + DiskM31 + DiskMW + DiskM33 + BulgeMW + BulgeM31\n",
    "print \"The total Mass of the Local Group\", totMass, \" x 10^12 Msun\" \n",
    "# sort the masses of each component \n",
    "ListMass = [HaloM31,HaloMW,HaloM33,DiskM31,DiskMW,DiskM33,BulgeMW,BulgeM31]\n",
    "print sorted(ListMass,reverse=True)"
   ]
  },
  {
   "cell_type": "markdown",
   "metadata": {},
   "source": [
    "Total Mass is dominated by the halo mass of M31 and the MW"
   ]
  },
  {
   "cell_type": "code",
   "execution_count": 13,
   "metadata": {
    "collapsed": false
   },
   "outputs": [
    {
     "name": "stdout",
     "output_type": "stream",
     "text": [
      "Ratio Between the stellar mass of M31 and MW  0.61\n",
      "The Stellar mass of the MW is 61.0 Percent that of M31\n"
     ]
    }
   ],
   "source": [
    "# Question 5 \n",
    "# comparing the stellar mass of MW to M31\n",
    "ratioStar = round((DiskMW+BulgeMW)/(DiskM31+BulgeM31),2)\n",
    "print \"Ratio Between the stellar mass of M31 and MW \", ratioStar \n",
    "print \"The Stellar mass of the MW is %s Percent that of M31\" %(ratioStar*100)"
   ]
  },
  {
   "cell_type": "code",
   "execution_count": 14,
   "metadata": {
    "collapsed": false
   },
   "outputs": [
    {
     "name": "stdout",
     "output_type": "stream",
     "text": [
      "Ratio between the halo mass of M31 and M33 is 10.27\n",
      "The Halo Mass of M31 is 10.27 times larger\n"
     ]
    }
   ],
   "source": [
    "# Question 6 \n",
    "# comparing the total dark mass of M33 and M31\n",
    "print \"Ratio between the halo mass of M31 and M33 is\", round(HaloM31/HaloM33,2)\n",
    "print \"The Halo Mass of M31 is %s times larger\" %round(HaloM31/HaloM33,2)"
   ]
  },
  {
   "cell_type": "code",
   "execution_count": 15,
   "metadata": {
    "collapsed": false
   },
   "outputs": [
    {
     "name": "stdout",
     "output_type": "stream",
     "text": [
      "Ratio between the stellar Mass of M31 and M33 is 15.44\n",
      "The stellar ratio is 15.44 times larger than that of the dark component\n"
     ]
    }
   ],
   "source": [
    "# Question 7\n",
    "# comparing the stellar mass of M33 to that of M31\n",
    "ratioStarM33M31 = round((DiskM31+BulgeM31)/(DiskM33),2)\n",
    "print \"Ratio between the stellar mass of M31 and M33 is\", ratioStarM33M31\n",
    "print \"The stellar ratio is %s times larger than that of the dark component\" %(ratioStarM33M31)"
   ]
  },
  {
   "cell_type": "code",
   "execution_count": 16,
   "metadata": {
    "collapsed": false
   },
   "outputs": [
    {
     "name": "stdout",
     "output_type": "stream",
     "text": [
      "The Ratio Light/Dark for the MW is 4.0 percent\n",
      "The Ratio Light/Dark for the M31 is 7.0 percent\n",
      "The Ratio Light/Dark for the M33 is 5.0 percent\n"
     ]
    }
   ],
   "source": [
    "# Question 8\n",
    "# computing baryon fraction\n",
    "RatioMW = round((DiskMW+BulgeMW)/HaloMW,2)\n",
    "RatioM31 = round((DiskM31+BulgeM31)/HaloM31,2)\n",
    "RatioM33 = round((DiskM33)/HaloM33,2)\n",
    "print \"The Ratio Light/Dark for the MW is\", RatioMW*100, \"percent\"\n",
    "print \"The Ratio Light/Dark for the M31 is\", RatioM31*100, \"percent\"\n",
    "print \"The Ratio Light/Dark for the M33 is\", RatioM33*100, \"percent\"\n"
   ]
  },
  {
   "cell_type": "markdown",
   "metadata": {
    "collapsed": false
   },
   "source": [
    "These fractions are well below the universal baryon fraction of 15%.\n",
    "Reasons: 1) Outflows may feed the CGM, removing baryons from the disk\n",
    "2) Gas may be inefficiently accreted onto galactic disks"
   ]
  },
  {
   "cell_type": "code",
   "execution_count": null,
   "metadata": {
    "collapsed": true
   },
   "outputs": [],
   "source": []
  }
 ],
 "metadata": {
  "kernelspec": {
   "display_name": "Python 2",
   "language": "python",
   "name": "python2"
  },
  "language_info": {
   "codemirror_mode": {
    "name": "ipython",
    "version": 2
   },
   "file_extension": ".py",
   "mimetype": "text/x-python",
   "name": "python",
   "nbconvert_exporter": "python",
   "pygments_lexer": "ipython2",
   "version": "2.7.11"
  }
 },
 "nbformat": 4,
 "nbformat_minor": 0
}
